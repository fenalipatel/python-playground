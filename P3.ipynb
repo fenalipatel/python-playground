{
 "cells": [
  {
   "cell_type": "code",
   "execution_count": 1,
   "id": "2edb2af8-a841-46a8-a1e1-027bb9afb46d",
   "metadata": {
    "tags": []
   },
   "outputs": [
    {
     "name": "stdin",
     "output_type": "stream",
     "text": [
      "enter no 3\n"
     ]
    },
    {
     "name": "stdout",
     "output_type": "stream",
     "text": [
      "[3, 6, 9, 12]\n"
     ]
    }
   ],
   "source": [
    "def func(my_list,n):\n",
    "    new_list=[]\n",
    "    for i in my_list:\n",
    "        new_list.append(i*n)\n",
    "    print(new_list)\n",
    "func([1,2,3,4],int(input(\"enter no\")))"
   ]
  },
  {
   "cell_type": "code",
   "execution_count": null,
   "id": "6dbc983f-df18-43e3-9370-91255595affc",
   "metadata": {},
   "outputs": [],
   "source": []
  }
 ],
 "metadata": {
  "kernelspec": {
   "display_name": "Python 3 (ipykernel)",
   "language": "python",
   "name": "python3"
  },
  "language_info": {
   "codemirror_mode": {
    "name": "ipython",
    "version": 3
   },
   "file_extension": ".py",
   "mimetype": "text/x-python",
   "name": "python",
   "nbconvert_exporter": "python",
   "pygments_lexer": "ipython3",
   "version": "3.11.1"
  }
 },
 "nbformat": 4,
 "nbformat_minor": 5
}
